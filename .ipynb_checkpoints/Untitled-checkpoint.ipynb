{
 "cells": [
  {
   "cell_type": "code",
   "execution_count": 31,
   "metadata": {},
   "outputs": [],
   "source": [
    "import pandas as pd\n",
    "import numpy as np\n",
    "import Procedatos as P\n",
    "import Graficos as G\n",
    "import seaborn as sns\n",
    "from math import ceil"
   ]
  },
  {
   "cell_type": "code",
   "execution_count": 16,
   "metadata": {},
   "outputs": [
    {
     "data": {
      "text/plain": [
       "0.48989794855663565"
      ]
     },
     "execution_count": 16,
     "metadata": {},
     "output_type": "execute_result"
    }
   ],
   "source": [
    "r = [1,1,0,0,0]\n",
    "np.std(r)"
   ]
  },
  {
   "cell_type": "code",
   "execution_count": null,
   "metadata": {},
   "outputs": [],
   "source": [
    "data = P.leer_datos([1],[1],[0],verb=False)\n",
    "# data = P.leer_datos([1,3,6,9],[1],[0],verb=False)\n",
    "data['Modelo'] = data['Memoria']\n",
    "data = data[data['Identificador'] == 14]\n",
    "data['Attendance'] = data.groupby('Ronda')['Estado'].transform('sum')\n",
    "data['lleva_recurso'] = data['Puntaje'].apply(lambda x: 1 if x == 1 else 0)\n",
    "data.head()"
   ]
  },
  {
   "cell_type": "code",
   "execution_count": 25,
   "metadata": {},
   "outputs": [
    {
     "name": "stdout",
     "output_type": "stream",
     "text": [
      "5 5 1.0 3.0 2.449489742783178 1.0954451150103321\n"
     ]
    }
   ],
   "source": [
    "n_rondas = (data['Ronda'].max() - data['Ronda'].min()) + 1\n",
    "n_agentes = data['Agente'].max() + 1\n",
    "FQ = 3\n",
    "FP = 5\n",
    "a = n_rondas / FP\n",
    "MTI = np.sqrt(a**2 * (FQ*FP - FQ**2))\n",
    "recursos = data.groupby('Agente')['lleva_recurso'].sum().reset_index()\n",
    "TII = np.sqrt(recursos['lleva_recurso'].apply(lambda x: (x - a*FQ)**2).sum()/n_agentes)\n",
    "print(n_rondas, n_agentes, a, a*FQ, MTI, TII)\n"
   ]
  },
  {
   "cell_type": "code",
   "execution_count": null,
   "metadata": {},
   "outputs": [],
   "source": [
    "recursos['lleva_recurso'].describe()"
   ]
  },
  {
   "cell_type": "code",
   "execution_count": null,
   "metadata": {},
   "outputs": [],
   "source": [
    "import seaborn as sns\n",
    "print(recursos['lleva_recurso'].value_counts())\n",
    "sns.histplot(recursos['lleva_recurso'])"
   ]
  },
  {
   "cell_type": "code",
   "execution_count": null,
   "metadata": {},
   "outputs": [],
   "source": [
    "data.groupby('Agente')['lleva_recurso'].sum().sum()"
   ]
  },
  {
   "cell_type": "code",
   "execution_count": null,
   "metadata": {},
   "outputs": [],
   "source": [
    "P.encuentra_findex(data)"
   ]
  },
  {
   "cell_type": "code",
   "execution_count": 18,
   "metadata": {},
   "outputs": [
    {
     "data": {
      "text/html": [
       "<div>\n",
       "<style scoped>\n",
       "    .dataframe tbody tr th:only-of-type {\n",
       "        vertical-align: middle;\n",
       "    }\n",
       "\n",
       "    .dataframe tbody tr th {\n",
       "        vertical-align: top;\n",
       "    }\n",
       "\n",
       "    .dataframe thead th {\n",
       "        text-align: right;\n",
       "    }\n",
       "</style>\n",
       "<table border=\"1\" class=\"dataframe\">\n",
       "  <thead>\n",
       "    <tr style=\"text-align: right;\">\n",
       "      <th></th>\n",
       "      <th>Identificador</th>\n",
       "      <th>Agente</th>\n",
       "      <th>Ronda</th>\n",
       "      <th>Estado</th>\n",
       "      <th>Attendance</th>\n",
       "      <th>Puntaje</th>\n",
       "      <th>lleva_recurso</th>\n",
       "    </tr>\n",
       "  </thead>\n",
       "  <tbody>\n",
       "    <tr>\n",
       "      <th>0</th>\n",
       "      <td>1</td>\n",
       "      <td>0</td>\n",
       "      <td>0</td>\n",
       "      <td>1</td>\n",
       "      <td>3</td>\n",
       "      <td>1</td>\n",
       "      <td>1</td>\n",
       "    </tr>\n",
       "    <tr>\n",
       "      <th>1</th>\n",
       "      <td>1</td>\n",
       "      <td>1</td>\n",
       "      <td>0</td>\n",
       "      <td>1</td>\n",
       "      <td>3</td>\n",
       "      <td>1</td>\n",
       "      <td>1</td>\n",
       "    </tr>\n",
       "    <tr>\n",
       "      <th>2</th>\n",
       "      <td>1</td>\n",
       "      <td>2</td>\n",
       "      <td>0</td>\n",
       "      <td>0</td>\n",
       "      <td>3</td>\n",
       "      <td>0</td>\n",
       "      <td>0</td>\n",
       "    </tr>\n",
       "    <tr>\n",
       "      <th>3</th>\n",
       "      <td>1</td>\n",
       "      <td>3</td>\n",
       "      <td>0</td>\n",
       "      <td>1</td>\n",
       "      <td>3</td>\n",
       "      <td>1</td>\n",
       "      <td>1</td>\n",
       "    </tr>\n",
       "    <tr>\n",
       "      <th>4</th>\n",
       "      <td>1</td>\n",
       "      <td>4</td>\n",
       "      <td>0</td>\n",
       "      <td>0</td>\n",
       "      <td>3</td>\n",
       "      <td>0</td>\n",
       "      <td>0</td>\n",
       "    </tr>\n",
       "  </tbody>\n",
       "</table>\n",
       "</div>"
      ],
      "text/plain": [
       "   Identificador  Agente  Ronda  Estado  Attendance  Puntaje  lleva_recurso\n",
       "0              1       0      0       1           3        1              1\n",
       "1              1       1      0       1           3        1              1\n",
       "2              1       2      0       0           3        0              0\n",
       "3              1       3      0       1           3        1              1\n",
       "4              1       4      0       0           3        0              0"
      ]
     },
     "execution_count": 18,
     "metadata": {},
     "output_type": "execute_result"
    }
   ],
   "source": [
    "def puntaje(x):\n",
    "    if x['Estado'] == 1:\n",
    "        if x['Attendance'] > 3:\n",
    "            return -1\n",
    "        else:\n",
    "            return 1\n",
    "    else:\n",
    "        return 0\n",
    "\n",
    "data = pd.DataFrame({'Identificador':1, \n",
    "        'Agente':list(range(5))*5,\n",
    "        'Ronda':[0]*5 + [1]*5 + [2]*5 + [3]*5 + [4]*5,\n",
    "        'Estado':[1,1,0,1,0] + [1,0,1,1,0] + [1,1,0,0,1] + [1,0,1,0,1] + [1,1,1,0,0]})\n",
    "\n",
    "data1 = pd.DataFrame({'Identificador':1, \n",
    "        'Agente':list(range(5))*10,\n",
    "        'Ronda':[item for sublist in [[i]*5 for i in range(10)] for item in sublist],\n",
    "        'Estado':[1,1,0,1,0] + [1,0,0,1,0] + [1,1,0,0,1] + [1,0,0,0,1] + [1,1,1,0,0] +\n",
    "                 [1,1,0,1,0] + [1,1,0,1,0] + [0,1,0,0,1] + [0,0,1,0,1] + [0,1,1,0,0]})\n",
    "\n",
    "data['Attendance'] = data.groupby('Ronda')['Estado'].transform('sum')\n",
    "data['Puntaje'] = data.apply(lambda x: puntaje(x), axis=1)\n",
    "data['lleva_recurso'] = data['Puntaje'].apply(lambda x: 1 if x == 1 else 0)\n",
    "data.head()"
   ]
  },
  {
   "cell_type": "markdown",
   "metadata": {},
   "source": [
    "$$\\frac{\\sum_i (n\\_rondas*tasa - x_i)^2}{\\sum_i \\left( (total\\_recursos - x_i)^2*ceiling\\left(\\frac{total\\_recursos}{n\\_rondas}\\right) + (total\\_recursos - 0)^2*(n\\_agentes-ceiling\\left(\\frac{total\\_recursos}{n\\_rondas}\\right)\\right))}$$"
   ]
  },
  {
   "cell_type": "code",
   "execution_count": 34,
   "metadata": {},
   "outputs": [
    {
     "data": {
      "text/html": [
       "<div>\n",
       "<style scoped>\n",
       "    .dataframe tbody tr th:only-of-type {\n",
       "        vertical-align: middle;\n",
       "    }\n",
       "\n",
       "    .dataframe tbody tr th {\n",
       "        vertical-align: top;\n",
       "    }\n",
       "\n",
       "    .dataframe thead tr th {\n",
       "        text-align: left;\n",
       "    }\n",
       "</style>\n",
       "<table border=\"1\" class=\"dataframe\">\n",
       "  <thead>\n",
       "    <tr>\n",
       "      <th></th>\n",
       "      <th>Agente</th>\n",
       "      <th colspan=\"3\" halign=\"left\">lleva_recurso</th>\n",
       "    </tr>\n",
       "    <tr>\n",
       "      <th></th>\n",
       "      <th></th>\n",
       "      <th>sum</th>\n",
       "      <th>&lt;lambda_0&gt;</th>\n",
       "      <th>&lt;lambda_1&gt;</th>\n",
       "    </tr>\n",
       "  </thead>\n",
       "  <tbody>\n",
       "    <tr>\n",
       "      <th>0</th>\n",
       "      <td>0</td>\n",
       "      <td>5</td>\n",
       "      <td>4</td>\n",
       "      <td>750</td>\n",
       "    </tr>\n",
       "    <tr>\n",
       "      <th>1</th>\n",
       "      <td>1</td>\n",
       "      <td>3</td>\n",
       "      <td>0</td>\n",
       "      <td>882</td>\n",
       "    </tr>\n",
       "    <tr>\n",
       "      <th>2</th>\n",
       "      <td>2</td>\n",
       "      <td>3</td>\n",
       "      <td>0</td>\n",
       "      <td>882</td>\n",
       "    </tr>\n",
       "    <tr>\n",
       "      <th>3</th>\n",
       "      <td>3</td>\n",
       "      <td>2</td>\n",
       "      <td>1</td>\n",
       "      <td>957</td>\n",
       "    </tr>\n",
       "    <tr>\n",
       "      <th>4</th>\n",
       "      <td>4</td>\n",
       "      <td>2</td>\n",
       "      <td>1</td>\n",
       "      <td>957</td>\n",
       "    </tr>\n",
       "  </tbody>\n",
       "</table>\n",
       "</div>"
      ],
      "text/plain": [
       "  Agente lleva_recurso                      \n",
       "                   sum <lambda_0> <lambda_1>\n",
       "0      0             5          4        750\n",
       "1      1             3          0        882\n",
       "2      2             3          0        882\n",
       "3      3             2          1        957\n",
       "4      4             2          1        957"
      ]
     },
     "execution_count": 34,
     "metadata": {},
     "output_type": "execute_result"
    }
   ],
   "source": [
    "n_rondas = (data['Ronda'].max() - data['Ronda'].min()) + 1\n",
    "n_agentes = data['Agente'].max() + 1\n",
    "total_recursos = data['lleva_recurso'].sum()\n",
    "tasa = .6\n",
    "sumas = data.groupby('Agente').agg({'lleva_recurso':['sum', lambda x: (n_rondas*tasa - x.sum())**2, lambda x: (total_recursos-x.sum())**2*ceil(total_recursos/n_rondas) + total_recursos**2*(n_agentes-ceil(total_recursos/n_rondas))]}).reset_index()\n",
    "#numerator = data.groupby('Ronda')['lleva_recurso'].apply(lambda x:np.std(x)).reset_index(name='numerator')\n",
    "#denominator = data.groupby('Ronda')['lleva_recurso'].sum().reset_index(name='denominator')\n",
    "#sumas = pd.merge(numerator,denominator,on='Ronda')\n",
    "#sumas['denominator'] = sumas['denominator']#/n_agentes\n",
    "#sumas['TFI'] = sumas['numerator']/sumas['denominator']\n",
    "sumas.head()"
   ]
  },
  {
   "cell_type": "code",
   "execution_count": 4,
   "metadata": {},
   "outputs": [
    {
     "data": {
      "text/plain": [
       "11.410886614690959"
      ]
     },
     "execution_count": 4,
     "metadata": {},
     "output_type": "execute_result"
    }
   ],
   "source": [
    "sumas['TFI'].sum()"
   ]
  },
  {
   "cell_type": "code",
   "execution_count": null,
   "metadata": {},
   "outputs": [],
   "source": [
    "data.groupby('Agente')['lleva_recurso'].sum()"
   ]
  },
  {
   "cell_type": "code",
   "execution_count": 5,
   "metadata": {},
   "outputs": [
    {
     "data": {
      "text/plain": [
       "([0.6020887871228893], 1.9493588689617927, 4.898979485566356)"
      ]
     },
     "execution_count": 5,
     "metadata": {},
     "output_type": "execute_result"
    }
   ],
   "source": [
    "P.encuentra_findex(data)"
   ]
  },
  {
   "cell_type": "code",
   "execution_count": null,
   "metadata": {},
   "outputs": [],
   "source": [
    "G.comparacion(data)"
   ]
  },
  {
   "cell_type": "code",
   "execution_count": null,
   "metadata": {},
   "outputs": [],
   "source": [
    "data1 = P.leer_datos([9],[3],[0], verb=False)\n",
    "data1['Modelo'] = '9-mem; 3-pred'\n",
    "data2 = P.leer_datos([1],[1],[0], verb=False)\n",
    "data2['Modelo'] = '1-mem; 1-pred'\n",
    "data = pd.concat([data1,data2])"
   ]
  },
  {
   "cell_type": "code",
   "execution_count": null,
   "metadata": {},
   "outputs": [],
   "source": [
    "G.comparar_desemp(data)"
   ]
  },
  {
   "cell_type": "code",
   "execution_count": null,
   "metadata": {
    "scrolled": true
   },
   "outputs": [],
   "source": [
    "data = P.leer_datos([9],[3],[0], verb=False)"
   ]
  },
  {
   "cell_type": "code",
   "execution_count": null,
   "metadata": {},
   "outputs": [],
   "source": [
    "id = data['Identificador'].unique().tolist()[0]\n",
    "df1 = data[(data['Identificador'] == id) & (data['Ronda'] > 79)]\n",
    "df1.head()"
   ]
  },
  {
   "cell_type": "code",
   "execution_count": null,
   "metadata": {
    "scrolled": false
   },
   "outputs": [],
   "source": [
    "G.graficar_desemp(data)"
   ]
  },
  {
   "cell_type": "code",
   "execution_count": null,
   "metadata": {
    "scrolled": false
   },
   "outputs": [],
   "source": [
    "G.graficar_influencias(data)"
   ]
  },
  {
   "cell_type": "code",
   "execution_count": null,
   "metadata": {},
   "outputs": [],
   "source": [
    "data = P.leer_datos([1,3],[1,3],[0],verb=False)"
   ]
  },
  {
   "cell_type": "code",
   "execution_count": null,
   "metadata": {},
   "outputs": [],
   "source": [
    "d = data.pivot_table(values='Puntaje',index=['Memoria'],columns=['Num_predic'],aggfunc=np.mean)\n",
    "sns.heatmap(d)"
   ]
  }
 ],
 "metadata": {
  "kernelspec": {
   "display_name": "Python 3",
   "language": "python",
   "name": "python3"
  },
  "language_info": {
   "codemirror_mode": {
    "name": "ipython",
    "version": 3
   },
   "file_extension": ".py",
   "mimetype": "text/x-python",
   "name": "python",
   "nbconvert_exporter": "python",
   "pygments_lexer": "ipython3",
   "version": "3.9.7"
  }
 },
 "nbformat": 4,
 "nbformat_minor": 4
}
