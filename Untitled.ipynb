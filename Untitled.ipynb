{
 "cells": [
  {
   "cell_type": "code",
   "execution_count": 1,
   "metadata": {},
   "outputs": [],
   "source": [
    "import pandas as pd\n",
    "import numpy as np\n",
    "import Procedatos as P\n",
    "import Graficos as G\n",
    "import seaborn as sns\n",
    "from math import ceil"
   ]
  },
  {
   "cell_type": "code",
   "execution_count": null,
   "metadata": {},
   "outputs": [],
   "source": [
    "def puntaje(x):\n",
    "    if x['Estado'] == 1:\n",
    "        if x['Attendance'] > 3:\n",
    "            return -1\n",
    "        else:\n",
    "            return 1\n",
    "    else:\n",
    "        return 0\n",
    "\n",
    "data1 = pd.DataFrame({'Identificador':1, \n",
    "        'Agente':list(range(5))*5,\n",
    "        'Ronda':[0]*5 + [1]*5 + [2]*5 + [3]*5 + [4]*5,\n",
    "        'Estado':[1,1,0,1,0] + [1,0,1,1,0] + [1,1,0,0,1] + [1,0,1,0,1] + [1,1,1,0,0]})\n",
    "\n",
    "data = pd.DataFrame({'Identificador':1, \n",
    "        'Agente':list(range(5))*10,\n",
    "        'Ronda':[item for sublist in [[i]*5 for i in range(10)] for item in sublist],\n",
    "        'Estado':[1,1,0,1,0] + [1,0,0,1,0] + [1,1,0,0,1] + [1,0,0,0,1] + [1,1,1,0,0] +\n",
    "                 [1,1,0,1,0] + [1,1,0,1,0] + [0,1,0,0,1] + [0,0,1,0,1] + [0,1,1,0,0]})\n",
    "\n",
    "data['Attendance'] = data.groupby('Ronda')['Estado'].transform('sum')\n",
    "data['Puntaje'] = data.apply(lambda x: puntaje(x), axis=1)\n",
    "data['lleva_recurso'] = data['Puntaje'].apply(lambda x: 1 if x == 1 else 0)\n",
    "data.head()"
   ]
  },
  {
   "cell_type": "code",
   "execution_count": null,
   "metadata": {},
   "outputs": [],
   "source": [
    "data.groupby('Agente')['lleva_recurso'].sum()"
   ]
  },
  {
   "cell_type": "code",
   "execution_count": null,
   "metadata": {},
   "outputs": [],
   "source": [
    "P.encuentra_findex(data)"
   ]
  },
  {
   "cell_type": "code",
   "execution_count": null,
   "metadata": {},
   "outputs": [],
   "source": [
    "P.encuentra_gini(data)"
   ]
  },
  {
   "cell_type": "code",
   "execution_count": null,
   "metadata": {},
   "outputs": [],
   "source": [
    "data = P.leer_datos([1],[1],[0],verb=False)\n",
    "# data = P.leer_datos([1,3,6,9],[1],[0],verb=False)\n",
    "data['Modelo'] = data['Memoria']\n",
    "data = data[data['Identificador'] == 14]\n",
    "data['Attendance'] = data.groupby('Ronda')['Estado'].transform('sum')\n",
    "data['lleva_recurso'] = data['Puntaje'].apply(lambda x: 1 if x == 1 else 0)\n",
    "data.head()"
   ]
  },
  {
   "cell_type": "code",
   "execution_count": null,
   "metadata": {},
   "outputs": [],
   "source": [
    "P.encuentra_findex(data)"
   ]
  },
  {
   "cell_type": "code",
   "execution_count": null,
   "metadata": {},
   "outputs": [],
   "source": [
    "data1 = P.leer_datos([9],[3],[0], verb=False)\n",
    "data1['Modelo'] = '9-mem; 3-pred'\n",
    "data2 = P.leer_datos([1],[1],[0], verb=False)\n",
    "data2['Modelo'] = '1-mem; 1-pred'\n",
    "data = pd.concat([data1,data2])"
   ]
  },
  {
   "cell_type": "code",
   "execution_count": null,
   "metadata": {},
   "outputs": [],
   "source": [
    "r = [1,1,0,0,0]\n",
    "np.std(r)"
   ]
  },
  {
   "cell_type": "code",
   "execution_count": null,
   "metadata": {},
   "outputs": [],
   "source": [
    "n_rondas = (data['Ronda'].max() - data['Ronda'].min()) + 1\n",
    "n_agentes = data['Agente'].max() + 1\n",
    "FQ = 3\n",
    "FP = 5\n",
    "a = n_rondas / FP\n",
    "MTI = np.sqrt(a**2 * (FQ*FP - FQ**2))\n",
    "recursos = data.groupby('Agente')['lleva_recurso'].sum().reset_index()\n",
    "TII = np.sqrt(recursos['lleva_recurso'].apply(lambda x: (x - a*FQ)**2).sum()/n_agentes)\n",
    "print(n_rondas, n_agentes, a, a*FQ, MTI, TII)\n"
   ]
  },
  {
   "cell_type": "code",
   "execution_count": null,
   "metadata": {},
   "outputs": [],
   "source": [
    "recursos['lleva_recurso'].describe()"
   ]
  },
  {
   "cell_type": "code",
   "execution_count": null,
   "metadata": {},
   "outputs": [],
   "source": [
    "import seaborn as sns\n",
    "print(recursos['lleva_recurso'].value_counts())\n",
    "sns.histplot(recursos['lleva_recurso'])"
   ]
  },
  {
   "cell_type": "code",
   "execution_count": null,
   "metadata": {},
   "outputs": [],
   "source": [
    "data.groupby('Agente')['lleva_recurso'].sum().sum()"
   ]
  },
  {
   "cell_type": "code",
   "execution_count": null,
   "metadata": {},
   "outputs": [],
   "source": [
    "P.encuentra_findex(data)"
   ]
  },
  {
   "cell_type": "code",
   "execution_count": null,
   "metadata": {},
   "outputs": [],
   "source": [
    "G.comparacion(data)"
   ]
  },
  {
   "cell_type": "code",
   "execution_count": null,
   "metadata": {},
   "outputs": [],
   "source": [
    "G.comparar_desemp(data)"
   ]
  },
  {
   "cell_type": "code",
   "execution_count": 2,
   "metadata": {
    "scrolled": true
   },
   "outputs": [
    {
     "name": "stderr",
     "output_type": "stream",
     "text": [
      "/Users/edgar/Repositorios/ElFarolArthur/Procedatos.py:82: FutureWarning: elementwise comparison failed; returning scalar instead, but in the future will perform elementwise comparison\n",
      "  if 'Memoria' in aux['Memoria'].unique():\n"
     ]
    }
   ],
   "source": [
    "data = P.leer_datos([9],[3],[0], verb=False)"
   ]
  },
  {
   "cell_type": "code",
   "execution_count": 3,
   "metadata": {},
   "outputs": [
    {
     "data": {
      "text/html": [
       "<div>\n",
       "<style scoped>\n",
       "    .dataframe tbody tr th:only-of-type {\n",
       "        vertical-align: middle;\n",
       "    }\n",
       "\n",
       "    .dataframe tbody tr th {\n",
       "        vertical-align: top;\n",
       "    }\n",
       "\n",
       "    .dataframe thead th {\n",
       "        text-align: right;\n",
       "    }\n",
       "</style>\n",
       "<table border=\"1\" class=\"dataframe\">\n",
       "  <thead>\n",
       "    <tr style=\"text-align: right;\">\n",
       "      <th></th>\n",
       "      <th>Conectividad</th>\n",
       "      <th>Memoria</th>\n",
       "      <th>Num_predic</th>\n",
       "      <th>Identificador</th>\n",
       "      <th>Ronda</th>\n",
       "      <th>Agente</th>\n",
       "      <th>Estado</th>\n",
       "      <th>Puntaje</th>\n",
       "      <th>Politica</th>\n",
       "      <th>Prediccion</th>\n",
       "      <th>Precision</th>\n",
       "    </tr>\n",
       "  </thead>\n",
       "  <tbody>\n",
       "    <tr>\n",
       "      <th>80</th>\n",
       "      <td>0.0</td>\n",
       "      <td>9</td>\n",
       "      <td>3</td>\n",
       "      <td>1600</td>\n",
       "      <td>80</td>\n",
       "      <td>0</td>\n",
       "      <td>1</td>\n",
       "      <td>-1</td>\n",
       "      <td>5-ciclico-espejo(25)</td>\n",
       "      <td>17</td>\n",
       "      <td>33.064727</td>\n",
       "    </tr>\n",
       "    <tr>\n",
       "      <th>81</th>\n",
       "      <td>0.0</td>\n",
       "      <td>9</td>\n",
       "      <td>3</td>\n",
       "      <td>1600</td>\n",
       "      <td>81</td>\n",
       "      <td>0</td>\n",
       "      <td>1</td>\n",
       "      <td>1</td>\n",
       "      <td>2-ventana-espejo(10)</td>\n",
       "      <td>39</td>\n",
       "      <td>24.651340</td>\n",
       "    </tr>\n",
       "    <tr>\n",
       "      <th>82</th>\n",
       "      <td>0.0</td>\n",
       "      <td>9</td>\n",
       "      <td>3</td>\n",
       "      <td>1600</td>\n",
       "      <td>82</td>\n",
       "      <td>0</td>\n",
       "      <td>1</td>\n",
       "      <td>-1</td>\n",
       "      <td>5-ciclico-espejo(25)</td>\n",
       "      <td>28</td>\n",
       "      <td>21.151716</td>\n",
       "    </tr>\n",
       "    <tr>\n",
       "      <th>83</th>\n",
       "      <td>0.0</td>\n",
       "      <td>9</td>\n",
       "      <td>3</td>\n",
       "      <td>1600</td>\n",
       "      <td>83</td>\n",
       "      <td>0</td>\n",
       "      <td>1</td>\n",
       "      <td>1</td>\n",
       "      <td>5-ciclico-espejo(25)</td>\n",
       "      <td>26</td>\n",
       "      <td>21.406201</td>\n",
       "    </tr>\n",
       "    <tr>\n",
       "      <th>84</th>\n",
       "      <td>0.0</td>\n",
       "      <td>9</td>\n",
       "      <td>3</td>\n",
       "      <td>1600</td>\n",
       "      <td>84</td>\n",
       "      <td>0</td>\n",
       "      <td>1</td>\n",
       "      <td>1</td>\n",
       "      <td>8-ventana-espejo(68)</td>\n",
       "      <td>36</td>\n",
       "      <td>23.252651</td>\n",
       "    </tr>\n",
       "  </tbody>\n",
       "</table>\n",
       "</div>"
      ],
      "text/plain": [
       "    Conectividad  Memoria  Num_predic  Identificador  Ronda  Agente  Estado  \\\n",
       "80           0.0        9           3           1600     80       0       1   \n",
       "81           0.0        9           3           1600     81       0       1   \n",
       "82           0.0        9           3           1600     82       0       1   \n",
       "83           0.0        9           3           1600     83       0       1   \n",
       "84           0.0        9           3           1600     84       0       1   \n",
       "\n",
       "    Puntaje              Politica  Prediccion  Precision  \n",
       "80       -1  5-ciclico-espejo(25)          17  33.064727  \n",
       "81        1  2-ventana-espejo(10)          39  24.651340  \n",
       "82       -1  5-ciclico-espejo(25)          28  21.151716  \n",
       "83        1  5-ciclico-espejo(25)          26  21.406201  \n",
       "84        1  8-ventana-espejo(68)          36  23.252651  "
      ]
     },
     "execution_count": 3,
     "metadata": {},
     "output_type": "execute_result"
    }
   ],
   "source": [
    "id = data['Identificador'].unique().tolist()[0]\n",
    "df1 = data[(data['Identificador'] == id) & (data['Ronda'] > 79)]\n",
    "df1.head()"
   ]
  },
  {
   "cell_type": "code",
   "execution_count": 4,
   "metadata": {
    "scrolled": false
   },
   "outputs": [
    {
     "data": {
      "image/png": "[encoded data removed]",
      "text/plain": [
       "<Figure size 648x432 with 6 Axes>"
      ]
     },
     "metadata": {
      "needs_background": "light"
     },
     "output_type": "display_data"
    }
   ],
   "source": [
    "G.graficar_desemp(data)"
   ]
  },
  {
   "cell_type": "code",
   "execution_count": null,
   "metadata": {
    "scrolled": false
   },
   "outputs": [],
   "source": [
    "G.graficar_influencias(data)"
   ]
  },
  {
   "cell_type": "code",
   "execution_count": null,
   "metadata": {},
   "outputs": [],
   "source": [
    "data = P.leer_datos([1,3],[1,3],[0],verb=False)"
   ]
  },
  {
   "cell_type": "code",
   "execution_count": null,
   "metadata": {},
   "outputs": [],
   "source": [
    "d = data.pivot_table(values='Puntaje',index=['Memoria'],columns=['Num_predic'],aggfunc=np.mean)\n",
    "sns.heatmap(d)"
   ]
  }
 ],
 "metadata": {
  "kernelspec": {
   "display_name": "Python 3",
   "language": "python",
   "name": "python3"
  },
  "language_info": {
   "codemirror_mode": {
    "name": "ipython",
    "version": 3
   },
   "file_extension": ".py",
   "mimetype": "text/x-python",
   "name": "python",
   "nbconvert_exporter": "python",
   "pygments_lexer": "ipython3",
   "version": "3.9.7"
  }
 },
 "nbformat": 4,
 "nbformat_minor": 4
}
